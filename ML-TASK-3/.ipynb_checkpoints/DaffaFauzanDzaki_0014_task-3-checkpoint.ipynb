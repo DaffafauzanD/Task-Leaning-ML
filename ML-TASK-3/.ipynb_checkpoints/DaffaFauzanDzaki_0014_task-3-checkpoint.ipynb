{
 "cells": [
  {
   "cell_type": "markdown",
   "id": "40573b4e-73c1-41b0-b1ac-9eada356ecb3",
   "metadata": {},
   "source": [
    "# 04 Data Processing dengan Scikit-Learn"
   ]
  },
  {
   "cell_type": "markdown",
   "id": "97a6611d-b21b-4baf-a754-5e5a1574a2b4",
   "metadata": {},
   "source": [
    "## Sample Data"
   ]
  },
  {
   "cell_type": "code",
   "execution_count": 1,
   "id": "d8895c28-a54f-4c51-b7cc-035cd4657606",
   "metadata": {},
   "outputs": [
    {
     "data": {
      "text/plain": [
       "array([[ 2.1, -1.9,  5.5],\n",
       "       [-1.5,  2.4,  3.5],\n",
       "       [ 0.5, -7.9,  5.6],\n",
       "       [ 5.9,  2.3, -5.8]])"
      ]
     },
     "execution_count": 1,
     "metadata": {},
     "output_type": "execute_result"
    }
   ],
   "source": [
    "import numpy as np\n",
    "from sklearn import preprocessing\n",
    "\n",
    "sample_data = np.array([[2.1, -1.9, 5.5],\n",
    "[-1.5, 2.4, 3.5],\n",
    "[0.5, -7.9, 5.6],\n",
    "[5.9, 2.3, -5.8]])\n",
    "\n",
    "sample_data"
   ]
  },
  {
   "cell_type": "code",
   "execution_count": 2,
   "id": "2da95d36-510d-4069-abfc-575d636f7096",
   "metadata": {},
   "outputs": [
    {
     "data": {
      "text/plain": [
       "(4, 3)"
      ]
     },
     "execution_count": 2,
     "metadata": {},
     "output_type": "execute_result"
    }
   ],
   "source": [
    "sample_data . shape"
   ]
  },
  {
   "cell_type": "markdown",
   "id": "84de65e6-98d1-42ed-9a14-25617f12e93e",
   "metadata": {},
   "source": [
    "## Binaritation"
   ]
  },
  {
   "cell_type": "code",
   "execution_count": 3,
   "id": "3971583a-cbee-401b-a2e2-47c9d7f0a80a",
   "metadata": {},
   "outputs": [
    {
     "data": {
      "text/plain": [
       "array([[ 2.1, -1.9,  5.5],\n",
       "       [-1.5,  2.4,  3.5],\n",
       "       [ 0.5, -7.9,  5.6],\n",
       "       [ 5.9,  2.3, -5.8]])"
      ]
     },
     "execution_count": 3,
     "metadata": {},
     "output_type": "execute_result"
    }
   ],
   "source": [
    "sample_data"
   ]
  },
  {
   "cell_type": "code",
   "execution_count": 4,
   "id": "6f9fc197-2f63-42ef-aa87-5721accf83f4",
   "metadata": {},
   "outputs": [
    {
     "data": {
      "text/plain": [
       "array([[1., 0., 1.],\n",
       "       [0., 1., 1.],\n",
       "       [0., 0., 1.],\n",
       "       [1., 1., 0.]])"
      ]
     },
     "execution_count": 4,
     "metadata": {},
     "output_type": "execute_result"
    }
   ],
   "source": [
    "preprocessor = preprocessing. Binarizer (threshold=0.5)\n",
    "binarised_data = preprocessor.transform(sample_data)\n",
    "binarised_data"
   ]
  },
  {
   "cell_type": "markdown",
   "id": "e8c0cbd5-4087-4bf5-981c-a62e4581d25e",
   "metadata": {},
   "source": [
    "## Scaling"
   ]
  },
  {
   "cell_type": "code",
   "execution_count": 5,
   "id": "67fe5925-4a8b-4041-926c-5854ce9b9b36",
   "metadata": {},
   "outputs": [
    {
     "data": {
      "text/plain": [
       "array([[ 2.1, -1.9,  5.5],\n",
       "       [-1.5,  2.4,  3.5],\n",
       "       [ 0.5, -7.9,  5.6],\n",
       "       [ 5.9,  2.3, -5.8]])"
      ]
     },
     "execution_count": 5,
     "metadata": {},
     "output_type": "execute_result"
    }
   ],
   "source": [
    "sample_data"
   ]
  },
  {
   "cell_type": "code",
   "execution_count": 6,
   "id": "0a25cf55-ea43-4e7f-8016-34c6f031e352",
   "metadata": {},
   "outputs": [
    {
     "data": {
      "text/plain": [
       "array([[0.48648649, 0.58252427, 0.99122807],\n",
       "       [0.        , 1.        , 0.81578947],\n",
       "       [0.27027027, 0.        , 1.        ],\n",
       "       [1.        , 0.99029126, 0.        ]])"
      ]
     },
     "execution_count": 6,
     "metadata": {},
     "output_type": "execute_result"
    }
   ],
   "source": [
    "preprocessor = preprocessing. MinMaxScaler(feature_range=(0, 1))\n",
    "preprocessor.fit(sample_data)\n",
    "scaled_data = preprocessor.transform(sample_data)\n",
    "scaled_data"
   ]
  },
  {
   "cell_type": "code",
   "execution_count": 7,
   "id": "8587ce53-72d5-4e58-a727-a559b8595d58",
   "metadata": {},
   "outputs": [
    {
     "data": {
      "text/plain": [
       "array([[0.48648649, 0.58252427, 0.99122807],\n",
       "       [0.        , 1.        , 0.81578947],\n",
       "       [0.27027027, 0.        , 1.        ],\n",
       "       [1.        , 0.99029126, 0.        ]])"
      ]
     },
     "execution_count": 7,
     "metadata": {},
     "output_type": "execute_result"
    }
   ],
   "source": [
    "scaled_data = preprocessor.fit_transform(sample_data)\n",
    "scaled_data"
   ]
  },
  {
   "cell_type": "markdown",
   "id": "35a5c4de-1fb6-4152-a01f-495401ea1811",
   "metadata": {},
   "source": [
    "## L1 Normalisation: Least Absolute Deviations"
   ]
  },
  {
   "cell_type": "code",
   "execution_count": 8,
   "id": "925157f1-e005-4b7b-a0fd-7fc8fa16c92f",
   "metadata": {},
   "outputs": [
    {
     "data": {
      "text/plain": [
       "array([[ 2.1, -1.9,  5.5],\n",
       "       [-1.5,  2.4,  3.5],\n",
       "       [ 0.5, -7.9,  5.6],\n",
       "       [ 5.9,  2.3, -5.8]])"
      ]
     },
     "execution_count": 8,
     "metadata": {},
     "output_type": "execute_result"
    }
   ],
   "source": [
    "sample_data"
   ]
  },
  {
   "cell_type": "code",
   "execution_count": 9,
   "id": "73e34765-dafa-4f57-95ee-a53c0ff14fa0",
   "metadata": {},
   "outputs": [
    {
     "data": {
      "text/plain": [
       "array([[ 0.33946114, -0.30713151,  0.88906489],\n",
       "       [-0.33325106,  0.53320169,  0.7775858 ],\n",
       "       [ 0.05156558, -0.81473612,  0.57753446],\n",
       "       [ 0.68706914,  0.26784051, -0.6754239 ]])"
      ]
     },
     "execution_count": 9,
     "metadata": {},
     "output_type": "execute_result"
    }
   ],
   "source": [
    "l2_normalised_data = preprocessing.normalize(sample_data, norm='l2')\n",
    "l2_normalised_data"
   ]
  },
  {
   "cell_type": "code",
   "execution_count": null,
   "id": "cdbd4471-f0ba-45dd-96cf-0fe81097b95d",
   "metadata": {},
   "outputs": [],
   "source": []
  }
 ],
 "metadata": {
  "kernelspec": {
   "display_name": "Python 3 (ipykernel)",
   "language": "python",
   "name": "python3"
  },
  "language_info": {
   "codemirror_mode": {
    "name": "ipython",
    "version": 3
   },
   "file_extension": ".py",
   "mimetype": "text/x-python",
   "name": "python",
   "nbconvert_exporter": "python",
   "pygments_lexer": "ipython3",
   "version": "3.12.7"
  }
 },
 "nbformat": 4,
 "nbformat_minor": 5
}
